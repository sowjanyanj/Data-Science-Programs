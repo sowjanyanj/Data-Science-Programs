{
 "cells": [
  {
   "cell_type": "code",
   "execution_count": 1,
   "id": "b6d6acf1",
   "metadata": {},
   "outputs": [],
   "source": [
    "import numpy as np\n",
    "import pandas as pd\n",
    "import seaborn as sns\n",
    "from sklearn.model_selection import train_test_split\n",
    "from sklearn.tree import DecisionTreeClassifier\n",
    "from sklearn.tree import plot_tree\n",
    "from sklearn.metrics import accuracy_score, confusion_matrix, classification_report"
   ]
  },
  {
   "cell_type": "code",
   "execution_count": 2,
   "id": "9245e37a",
   "metadata": {},
   "outputs": [],
   "source": [
    "df = pd.read_csv('C:/Users/sowja/OneDrive/Desktop/Data Science Programs/Data sets/student_performance_new.csv')\n"
   ]
  },
  {
   "cell_type": "code",
   "execution_count": 4,
   "id": "887decd9",
   "metadata": {},
   "outputs": [
    {
     "data": {
      "text/plain": [
       "(54, 18)"
      ]
     },
     "execution_count": 4,
     "metadata": {},
     "output_type": "execute_result"
    }
   ],
   "source": [
    "df.shape"
   ]
  },
  {
   "cell_type": "code",
   "execution_count": 5,
   "id": "dc97d111",
   "metadata": {},
   "outputs": [
    {
     "name": "stdout",
     "output_type": "stream",
     "text": [
      "<class 'pandas.core.frame.DataFrame'>\n",
      "RangeIndex: 54 entries, 0 to 53\n",
      "Data columns (total 18 columns):\n",
      " #   Column              Non-Null Count  Dtype  \n",
      "---  ------              --------------  -----  \n",
      " 0   Sl.No.              54 non-null     int64  \n",
      " 1   USN                 54 non-null     object \n",
      " 2   STUDENT NAME        54 non-null     object \n",
      " 3   Test I              54 non-null     int64  \n",
      " 4   Test II             54 non-null     int64  \n",
      " 5   Test III            54 non-null     int64  \n",
      " 6   Test Total          54 non-null     float64\n",
      " 7   Test Result         54 non-null     int64  \n",
      " 8   Quiz 1              54 non-null     float64\n",
      " 9   Quiz 2              54 non-null     float64\n",
      " 10  Compensatory        53 non-null     float64\n",
      " 11  Quiz                54 non-null     float64\n",
      " 12  Quiz Result         54 non-null     int64  \n",
      " 13  Test + Quiz         54 non-null     float64\n",
      " 14  Assignment          54 non-null     int64  \n",
      " 15  Unnamed: 15         54 non-null     int64  \n",
      " 16  Assignment Result   54 non-null     int64  \n",
      " 17  Result              54 non-null     int64  \n",
      "dtypes: float64(6), int64(10), object(2)\n",
      "memory usage: 7.7+ KB\n"
     ]
    }
   ],
   "source": [
    "df.info()"
   ]
  },
  {
   "cell_type": "code",
   "execution_count": 7,
   "id": "db827648",
   "metadata": {},
   "outputs": [
    {
     "data": {
      "text/html": [
       "<div>\n",
       "<style scoped>\n",
       "    .dataframe tbody tr th:only-of-type {\n",
       "        vertical-align: middle;\n",
       "    }\n",
       "\n",
       "    .dataframe tbody tr th {\n",
       "        vertical-align: top;\n",
       "    }\n",
       "\n",
       "    .dataframe thead th {\n",
       "        text-align: right;\n",
       "    }\n",
       "</style>\n",
       "<table border=\"1\" class=\"dataframe\">\n",
       "  <thead>\n",
       "    <tr style=\"text-align: right;\">\n",
       "      <th></th>\n",
       "      <th>Sl.No.</th>\n",
       "      <th>Test I</th>\n",
       "      <th>Test II</th>\n",
       "      <th>Test III</th>\n",
       "      <th>Test Total</th>\n",
       "      <th>Test Result</th>\n",
       "      <th>Quiz 1</th>\n",
       "      <th>Quiz 2</th>\n",
       "      <th>Compensatory</th>\n",
       "      <th>Quiz</th>\n",
       "      <th>Quiz Result</th>\n",
       "      <th>Test + Quiz</th>\n",
       "      <th>Assignment</th>\n",
       "      <th>Unnamed: 15</th>\n",
       "      <th>Assignment Result</th>\n",
       "      <th>Result</th>\n",
       "    </tr>\n",
       "  </thead>\n",
       "  <tbody>\n",
       "    <tr>\n",
       "      <th>count</th>\n",
       "      <td>54.000000</td>\n",
       "      <td>54.000000</td>\n",
       "      <td>54.000000</td>\n",
       "      <td>54.00000</td>\n",
       "      <td>54.000000</td>\n",
       "      <td>54.000000</td>\n",
       "      <td>54.000000</td>\n",
       "      <td>54.000000</td>\n",
       "      <td>53.000000</td>\n",
       "      <td>54.000000</td>\n",
       "      <td>54.000000</td>\n",
       "      <td>54.000000</td>\n",
       "      <td>54.000000</td>\n",
       "      <td>54.000000</td>\n",
       "      <td>54.0</td>\n",
       "      <td>54.000000</td>\n",
       "    </tr>\n",
       "    <tr>\n",
       "      <th>mean</th>\n",
       "      <td>27.907407</td>\n",
       "      <td>23.740741</td>\n",
       "      <td>30.462963</td>\n",
       "      <td>18.87037</td>\n",
       "      <td>24.358025</td>\n",
       "      <td>0.462963</td>\n",
       "      <td>5.592593</td>\n",
       "      <td>5.148148</td>\n",
       "      <td>9.490566</td>\n",
       "      <td>15.481481</td>\n",
       "      <td>0.981481</td>\n",
       "      <td>39.839506</td>\n",
       "      <td>13.759259</td>\n",
       "      <td>13.666667</td>\n",
       "      <td>1.0</td>\n",
       "      <td>0.500000</td>\n",
       "    </tr>\n",
       "    <tr>\n",
       "      <th>std</th>\n",
       "      <td>16.156392</td>\n",
       "      <td>8.355735</td>\n",
       "      <td>9.158382</td>\n",
       "      <td>7.47334</td>\n",
       "      <td>6.489744</td>\n",
       "      <td>0.503308</td>\n",
       "      <td>1.363521</td>\n",
       "      <td>1.516045</td>\n",
       "      <td>1.011903</td>\n",
       "      <td>1.710023</td>\n",
       "      <td>0.136083</td>\n",
       "      <td>6.903495</td>\n",
       "      <td>0.698656</td>\n",
       "      <td>0.700404</td>\n",
       "      <td>0.0</td>\n",
       "      <td>0.504695</td>\n",
       "    </tr>\n",
       "    <tr>\n",
       "      <th>min</th>\n",
       "      <td>1.000000</td>\n",
       "      <td>6.000000</td>\n",
       "      <td>6.000000</td>\n",
       "      <td>5.00000</td>\n",
       "      <td>12.666667</td>\n",
       "      <td>0.000000</td>\n",
       "      <td>2.500000</td>\n",
       "      <td>2.000000</td>\n",
       "      <td>7.000000</td>\n",
       "      <td>10.500000</td>\n",
       "      <td>0.000000</td>\n",
       "      <td>27.000000</td>\n",
       "      <td>13.000000</td>\n",
       "      <td>12.000000</td>\n",
       "      <td>1.0</td>\n",
       "      <td>0.000000</td>\n",
       "    </tr>\n",
       "    <tr>\n",
       "      <th>25%</th>\n",
       "      <td>14.250000</td>\n",
       "      <td>17.000000</td>\n",
       "      <td>25.500000</td>\n",
       "      <td>14.25000</td>\n",
       "      <td>18.916667</td>\n",
       "      <td>0.000000</td>\n",
       "      <td>5.000000</td>\n",
       "      <td>4.000000</td>\n",
       "      <td>10.000000</td>\n",
       "      <td>15.000000</td>\n",
       "      <td>1.000000</td>\n",
       "      <td>35.041667</td>\n",
       "      <td>13.000000</td>\n",
       "      <td>13.000000</td>\n",
       "      <td>1.0</td>\n",
       "      <td>0.000000</td>\n",
       "    </tr>\n",
       "    <tr>\n",
       "      <th>50%</th>\n",
       "      <td>27.500000</td>\n",
       "      <td>25.000000</td>\n",
       "      <td>32.000000</td>\n",
       "      <td>18.00000</td>\n",
       "      <td>24.000000</td>\n",
       "      <td>0.000000</td>\n",
       "      <td>5.500000</td>\n",
       "      <td>5.000000</td>\n",
       "      <td>10.000000</td>\n",
       "      <td>15.500000</td>\n",
       "      <td>1.000000</td>\n",
       "      <td>38.500000</td>\n",
       "      <td>14.000000</td>\n",
       "      <td>14.000000</td>\n",
       "      <td>1.0</td>\n",
       "      <td>0.500000</td>\n",
       "    </tr>\n",
       "    <tr>\n",
       "      <th>75%</th>\n",
       "      <td>41.750000</td>\n",
       "      <td>29.750000</td>\n",
       "      <td>37.750000</td>\n",
       "      <td>22.00000</td>\n",
       "      <td>28.500000</td>\n",
       "      <td>1.000000</td>\n",
       "      <td>6.875000</td>\n",
       "      <td>6.000000</td>\n",
       "      <td>10.000000</td>\n",
       "      <td>16.500000</td>\n",
       "      <td>1.000000</td>\n",
       "      <td>45.375000</td>\n",
       "      <td>14.000000</td>\n",
       "      <td>14.000000</td>\n",
       "      <td>1.0</td>\n",
       "      <td>1.000000</td>\n",
       "    </tr>\n",
       "    <tr>\n",
       "      <th>max</th>\n",
       "      <td>55.000000</td>\n",
       "      <td>46.000000</td>\n",
       "      <td>45.000000</td>\n",
       "      <td>43.00000</td>\n",
       "      <td>41.000000</td>\n",
       "      <td>1.000000</td>\n",
       "      <td>8.000000</td>\n",
       "      <td>10.000000</td>\n",
       "      <td>10.000000</td>\n",
       "      <td>20.000000</td>\n",
       "      <td>1.000000</td>\n",
       "      <td>60.000000</td>\n",
       "      <td>15.000000</td>\n",
       "      <td>15.000000</td>\n",
       "      <td>1.0</td>\n",
       "      <td>1.000000</td>\n",
       "    </tr>\n",
       "  </tbody>\n",
       "</table>\n",
       "</div>"
      ],
      "text/plain": [
       "          Sl.No.    Test I    Test II   Test III  Test Total   Test Result   \\\n",
       "count  54.000000  54.000000  54.000000  54.00000    54.000000     54.000000   \n",
       "mean   27.907407  23.740741  30.462963  18.87037    24.358025      0.462963   \n",
       "std    16.156392   8.355735   9.158382   7.47334     6.489744      0.503308   \n",
       "min     1.000000   6.000000   6.000000   5.00000    12.666667      0.000000   \n",
       "25%    14.250000  17.000000  25.500000  14.25000    18.916667      0.000000   \n",
       "50%    27.500000  25.000000  32.000000  18.00000    24.000000      0.000000   \n",
       "75%    41.750000  29.750000  37.750000  22.00000    28.500000      1.000000   \n",
       "max    55.000000  46.000000  45.000000  43.00000    41.000000      1.000000   \n",
       "\n",
       "          Quiz 1     Quiz 2  Compensatory       Quiz  Quiz Result   \\\n",
       "count  54.000000  54.000000     53.000000  54.000000     54.000000   \n",
       "mean    5.592593   5.148148      9.490566  15.481481      0.981481   \n",
       "std     1.363521   1.516045      1.011903   1.710023      0.136083   \n",
       "min     2.500000   2.000000      7.000000  10.500000      0.000000   \n",
       "25%     5.000000   4.000000     10.000000  15.000000      1.000000   \n",
       "50%     5.500000   5.000000     10.000000  15.500000      1.000000   \n",
       "75%     6.875000   6.000000     10.000000  16.500000      1.000000   \n",
       "max     8.000000  10.000000     10.000000  20.000000      1.000000   \n",
       "\n",
       "       Test + Quiz  Assignment   Unnamed: 15  Assignment Result      Result  \n",
       "count    54.000000    54.000000    54.000000                54.0  54.000000  \n",
       "mean     39.839506    13.759259    13.666667                 1.0   0.500000  \n",
       "std       6.903495     0.698656     0.700404                 0.0   0.504695  \n",
       "min      27.000000    13.000000    12.000000                 1.0   0.000000  \n",
       "25%      35.041667    13.000000    13.000000                 1.0   0.000000  \n",
       "50%      38.500000    14.000000    14.000000                 1.0   0.500000  \n",
       "75%      45.375000    14.000000    14.000000                 1.0   1.000000  \n",
       "max      60.000000    15.000000    15.000000                 1.0   1.000000  "
      ]
     },
     "execution_count": 7,
     "metadata": {},
     "output_type": "execute_result"
    }
   ],
   "source": [
    "df.describe()"
   ]
  },
  {
   "cell_type": "code",
   "execution_count": 8,
   "id": "9556a499",
   "metadata": {},
   "outputs": [
    {
     "data": {
      "text/plain": [
       "Sl.No.                0\n",
       "USN                   0\n",
       "STUDENT NAME          0\n",
       "Test I                0\n",
       "Test II               0\n",
       "Test III              0\n",
       "Test Total            0\n",
       "Test Result           0\n",
       "Quiz 1                0\n",
       "Quiz 2                0\n",
       "Compensatory          1\n",
       "Quiz                  0\n",
       "Quiz Result           0\n",
       "Test + Quiz           0\n",
       "Assignment            0\n",
       "Unnamed: 15           0\n",
       "Assignment Result     0\n",
       "Result                0\n",
       "dtype: int64"
      ]
     },
     "execution_count": 8,
     "metadata": {},
     "output_type": "execute_result"
    }
   ],
   "source": [
    "df.isna().sum()"
   ]
  },
  {
   "cell_type": "code",
   "execution_count": 9,
   "id": "6ca04d6a",
   "metadata": {},
   "outputs": [],
   "source": [
    "df.dropna(inplace=True)"
   ]
  },
  {
   "cell_type": "code",
   "execution_count": 10,
   "id": "358f9cae",
   "metadata": {},
   "outputs": [
    {
     "data": {
      "text/plain": [
       "Sl.No.                0\n",
       "USN                   0\n",
       "STUDENT NAME          0\n",
       "Test I                0\n",
       "Test II               0\n",
       "Test III              0\n",
       "Test Total            0\n",
       "Test Result           0\n",
       "Quiz 1                0\n",
       "Quiz 2                0\n",
       "Compensatory          0\n",
       "Quiz                  0\n",
       "Quiz Result           0\n",
       "Test + Quiz           0\n",
       "Assignment            0\n",
       "Unnamed: 15           0\n",
       "Assignment Result     0\n",
       "Result                0\n",
       "dtype: int64"
      ]
     },
     "execution_count": 10,
     "metadata": {},
     "output_type": "execute_result"
    }
   ],
   "source": [
    "df.isna().sum()"
   ]
  },
  {
   "cell_type": "code",
   "execution_count": 34,
   "id": "2ae3d4a2",
   "metadata": {},
   "outputs": [
    {
     "data": {
      "text/plain": [
       "['Sl.No.',\n",
       " 'USN',\n",
       " 'STUDENT NAME',\n",
       " 'Test I ',\n",
       " 'Test II ',\n",
       " 'Test III',\n",
       " 'Test Total ',\n",
       " 'Test Result ',\n",
       " 'Quiz 1',\n",
       " 'Quiz 2',\n",
       " 'Compensatory',\n",
       " 'Quiz',\n",
       " 'Quiz Result ',\n",
       " 'Test + Quiz',\n",
       " 'Assignment ',\n",
       " 'Unnamed: 15',\n",
       " 'Assignment Result ',\n",
       " 'Result']"
      ]
     },
     "execution_count": 34,
     "metadata": {},
     "output_type": "execute_result"
    }
   ],
   "source": [
    "# Listing all columns\n",
    "lst = list(df.columns)\n",
    "lst"
   ]
  },
  {
   "cell_type": "code",
   "execution_count": 35,
   "id": "508bc6c2",
   "metadata": {},
   "outputs": [
    {
     "data": {
      "text/html": [
       "<div>\n",
       "<style scoped>\n",
       "    .dataframe tbody tr th:only-of-type {\n",
       "        vertical-align: middle;\n",
       "    }\n",
       "\n",
       "    .dataframe tbody tr th {\n",
       "        vertical-align: top;\n",
       "    }\n",
       "\n",
       "    .dataframe thead th {\n",
       "        text-align: right;\n",
       "    }\n",
       "</style>\n",
       "<table border=\"1\" class=\"dataframe\">\n",
       "  <thead>\n",
       "    <tr style=\"text-align: right;\">\n",
       "      <th></th>\n",
       "      <th>Test I</th>\n",
       "      <th>Test II</th>\n",
       "      <th>Test III</th>\n",
       "      <th>Test Total</th>\n",
       "      <th>Test Result</th>\n",
       "      <th>Quiz 1</th>\n",
       "      <th>Quiz 2</th>\n",
       "      <th>Compensatory</th>\n",
       "      <th>Quiz</th>\n",
       "      <th>Quiz Result</th>\n",
       "      <th>Test + Quiz</th>\n",
       "      <th>Assignment</th>\n",
       "      <th>Unnamed: 15</th>\n",
       "      <th>Assignment Result</th>\n",
       "    </tr>\n",
       "  </thead>\n",
       "  <tbody>\n",
       "    <tr>\n",
       "      <th>0</th>\n",
       "      <td>34</td>\n",
       "      <td>39</td>\n",
       "      <td>14</td>\n",
       "      <td>29.000000</td>\n",
       "      <td>1</td>\n",
       "      <td>4.0</td>\n",
       "      <td>6.0</td>\n",
       "      <td>10.0</td>\n",
       "      <td>16.0</td>\n",
       "      <td>1</td>\n",
       "      <td>45.000000</td>\n",
       "      <td>14</td>\n",
       "      <td>13</td>\n",
       "      <td>1</td>\n",
       "    </tr>\n",
       "    <tr>\n",
       "      <th>1</th>\n",
       "      <td>30</td>\n",
       "      <td>33</td>\n",
       "      <td>27</td>\n",
       "      <td>30.000000</td>\n",
       "      <td>1</td>\n",
       "      <td>6.5</td>\n",
       "      <td>6.0</td>\n",
       "      <td>9.0</td>\n",
       "      <td>15.5</td>\n",
       "      <td>1</td>\n",
       "      <td>45.500000</td>\n",
       "      <td>14</td>\n",
       "      <td>13</td>\n",
       "      <td>1</td>\n",
       "    </tr>\n",
       "    <tr>\n",
       "      <th>3</th>\n",
       "      <td>16</td>\n",
       "      <td>28</td>\n",
       "      <td>32</td>\n",
       "      <td>25.333333</td>\n",
       "      <td>1</td>\n",
       "      <td>3.0</td>\n",
       "      <td>2.0</td>\n",
       "      <td>10.0</td>\n",
       "      <td>13.0</td>\n",
       "      <td>1</td>\n",
       "      <td>38.333333</td>\n",
       "      <td>13</td>\n",
       "      <td>13</td>\n",
       "      <td>1</td>\n",
       "    </tr>\n",
       "    <tr>\n",
       "      <th>4</th>\n",
       "      <td>25</td>\n",
       "      <td>42</td>\n",
       "      <td>27</td>\n",
       "      <td>31.333333</td>\n",
       "      <td>1</td>\n",
       "      <td>6.0</td>\n",
       "      <td>5.0</td>\n",
       "      <td>10.0</td>\n",
       "      <td>16.0</td>\n",
       "      <td>1</td>\n",
       "      <td>47.333333</td>\n",
       "      <td>13</td>\n",
       "      <td>14</td>\n",
       "      <td>1</td>\n",
       "    </tr>\n",
       "    <tr>\n",
       "      <th>5</th>\n",
       "      <td>27</td>\n",
       "      <td>33</td>\n",
       "      <td>22</td>\n",
       "      <td>27.333333</td>\n",
       "      <td>1</td>\n",
       "      <td>6.5</td>\n",
       "      <td>4.0</td>\n",
       "      <td>10.0</td>\n",
       "      <td>16.5</td>\n",
       "      <td>1</td>\n",
       "      <td>43.833333</td>\n",
       "      <td>14</td>\n",
       "      <td>14</td>\n",
       "      <td>1</td>\n",
       "    </tr>\n",
       "    <tr>\n",
       "      <th>6</th>\n",
       "      <td>32</td>\n",
       "      <td>45</td>\n",
       "      <td>28</td>\n",
       "      <td>35.000000</td>\n",
       "      <td>1</td>\n",
       "      <td>7.5</td>\n",
       "      <td>8.0</td>\n",
       "      <td>7.0</td>\n",
       "      <td>15.0</td>\n",
       "      <td>1</td>\n",
       "      <td>50.000000</td>\n",
       "      <td>15</td>\n",
       "      <td>15</td>\n",
       "      <td>1</td>\n",
       "    </tr>\n",
       "    <tr>\n",
       "      <th>7</th>\n",
       "      <td>12</td>\n",
       "      <td>22</td>\n",
       "      <td>17</td>\n",
       "      <td>17.000000</td>\n",
       "      <td>0</td>\n",
       "      <td>6.0</td>\n",
       "      <td>5.0</td>\n",
       "      <td>10.0</td>\n",
       "      <td>16.0</td>\n",
       "      <td>1</td>\n",
       "      <td>33.000000</td>\n",
       "      <td>13</td>\n",
       "      <td>14</td>\n",
       "      <td>1</td>\n",
       "    </tr>\n",
       "    <tr>\n",
       "      <th>8</th>\n",
       "      <td>20</td>\n",
       "      <td>33</td>\n",
       "      <td>20</td>\n",
       "      <td>24.333333</td>\n",
       "      <td>0</td>\n",
       "      <td>5.0</td>\n",
       "      <td>4.0</td>\n",
       "      <td>8.0</td>\n",
       "      <td>13.0</td>\n",
       "      <td>1</td>\n",
       "      <td>37.333333</td>\n",
       "      <td>14</td>\n",
       "      <td>14</td>\n",
       "      <td>1</td>\n",
       "    </tr>\n",
       "    <tr>\n",
       "      <th>9</th>\n",
       "      <td>22</td>\n",
       "      <td>30</td>\n",
       "      <td>18</td>\n",
       "      <td>23.333333</td>\n",
       "      <td>0</td>\n",
       "      <td>3.5</td>\n",
       "      <td>5.0</td>\n",
       "      <td>10.0</td>\n",
       "      <td>15.0</td>\n",
       "      <td>1</td>\n",
       "      <td>38.333333</td>\n",
       "      <td>14</td>\n",
       "      <td>14</td>\n",
       "      <td>1</td>\n",
       "    </tr>\n",
       "    <tr>\n",
       "      <th>10</th>\n",
       "      <td>25</td>\n",
       "      <td>16</td>\n",
       "      <td>21</td>\n",
       "      <td>20.666667</td>\n",
       "      <td>0</td>\n",
       "      <td>7.0</td>\n",
       "      <td>4.0</td>\n",
       "      <td>10.0</td>\n",
       "      <td>17.0</td>\n",
       "      <td>1</td>\n",
       "      <td>37.666667</td>\n",
       "      <td>14</td>\n",
       "      <td>14</td>\n",
       "      <td>1</td>\n",
       "    </tr>\n",
       "  </tbody>\n",
       "</table>\n",
       "</div>"
      ],
      "text/plain": [
       "    Test I   Test II   Test III  Test Total   Test Result   Quiz 1  Quiz 2  \\\n",
       "0        34        39        14    29.000000             1     4.0     6.0   \n",
       "1        30        33        27    30.000000             1     6.5     6.0   \n",
       "3        16        28        32    25.333333             1     3.0     2.0   \n",
       "4        25        42        27    31.333333             1     6.0     5.0   \n",
       "5        27        33        22    27.333333             1     6.5     4.0   \n",
       "6        32        45        28    35.000000             1     7.5     8.0   \n",
       "7        12        22        17    17.000000             0     6.0     5.0   \n",
       "8        20        33        20    24.333333             0     5.0     4.0   \n",
       "9        22        30        18    23.333333             0     3.5     5.0   \n",
       "10       25        16        21    20.666667             0     7.0     4.0   \n",
       "\n",
       "    Compensatory  Quiz  Quiz Result   Test + Quiz  Assignment   Unnamed: 15  \\\n",
       "0           10.0  16.0             1    45.000000           14           13   \n",
       "1            9.0  15.5             1    45.500000           14           13   \n",
       "3           10.0  13.0             1    38.333333           13           13   \n",
       "4           10.0  16.0             1    47.333333           13           14   \n",
       "5           10.0  16.5             1    43.833333           14           14   \n",
       "6            7.0  15.0             1    50.000000           15           15   \n",
       "7           10.0  16.0             1    33.000000           13           14   \n",
       "8            8.0  13.0             1    37.333333           14           14   \n",
       "9           10.0  15.0             1    38.333333           14           14   \n",
       "10          10.0  17.0             1    37.666667           14           14   \n",
       "\n",
       "    Assignment Result   \n",
       "0                    1  \n",
       "1                    1  \n",
       "3                    1  \n",
       "4                    1  \n",
       "5                    1  \n",
       "6                    1  \n",
       "7                    1  \n",
       "8                    1  \n",
       "9                    1  \n",
       "10                   1  "
      ]
     },
     "execution_count": 35,
     "metadata": {},
     "output_type": "execute_result"
    }
   ],
   "source": [
    "# Features\n",
    "features = lst[3:len(lst) - 1]\n",
    "X = df[features]\n",
    "X.head(10)"
   ]
  },
  {
   "cell_type": "code",
   "execution_count": 36,
   "id": "ea01df92",
   "metadata": {},
   "outputs": [
    {
     "data": {
      "text/plain": [
       "0     1\n",
       "1     1\n",
       "3     1\n",
       "4     1\n",
       "5     0\n",
       "6     0\n",
       "7     1\n",
       "8     1\n",
       "9     1\n",
       "10    1\n",
       "Name: Result, dtype: int64"
      ]
     },
     "execution_count": 36,
     "metadata": {},
     "output_type": "execute_result"
    }
   ],
   "source": [
    "# Target Variable\n",
    "y = df[\"Result\"]\n",
    "y.head(10)"
   ]
  },
  {
   "cell_type": "code",
   "execution_count": 40,
   "id": "830964c2",
   "metadata": {},
   "outputs": [],
   "source": [
    "# Splitting the dataset into Train set and Test set\n",
    "X_train,X_test,y_train,y_test = train_test_split(X,y, test_size = 0.2, random_state=1)\n"
   ]
  },
  {
   "cell_type": "code",
   "execution_count": 41,
   "id": "2c9cb7b9",
   "metadata": {},
   "outputs": [
    {
     "data": {
      "text/html": [
       "<style>#sk-container-id-4 {color: black;}#sk-container-id-4 pre{padding: 0;}#sk-container-id-4 div.sk-toggleable {background-color: white;}#sk-container-id-4 label.sk-toggleable__label {cursor: pointer;display: block;width: 100%;margin-bottom: 0;padding: 0.3em;box-sizing: border-box;text-align: center;}#sk-container-id-4 label.sk-toggleable__label-arrow:before {content: \"▸\";float: left;margin-right: 0.25em;color: #696969;}#sk-container-id-4 label.sk-toggleable__label-arrow:hover:before {color: black;}#sk-container-id-4 div.sk-estimator:hover label.sk-toggleable__label-arrow:before {color: black;}#sk-container-id-4 div.sk-toggleable__content {max-height: 0;max-width: 0;overflow: hidden;text-align: left;background-color: #f0f8ff;}#sk-container-id-4 div.sk-toggleable__content pre {margin: 0.2em;color: black;border-radius: 0.25em;background-color: #f0f8ff;}#sk-container-id-4 input.sk-toggleable__control:checked~div.sk-toggleable__content {max-height: 200px;max-width: 100%;overflow: auto;}#sk-container-id-4 input.sk-toggleable__control:checked~label.sk-toggleable__label-arrow:before {content: \"▾\";}#sk-container-id-4 div.sk-estimator input.sk-toggleable__control:checked~label.sk-toggleable__label {background-color: #d4ebff;}#sk-container-id-4 div.sk-label input.sk-toggleable__control:checked~label.sk-toggleable__label {background-color: #d4ebff;}#sk-container-id-4 input.sk-hidden--visually {border: 0;clip: rect(1px 1px 1px 1px);clip: rect(1px, 1px, 1px, 1px);height: 1px;margin: -1px;overflow: hidden;padding: 0;position: absolute;width: 1px;}#sk-container-id-4 div.sk-estimator {font-family: monospace;background-color: #f0f8ff;border: 1px dotted black;border-radius: 0.25em;box-sizing: border-box;margin-bottom: 0.5em;}#sk-container-id-4 div.sk-estimator:hover {background-color: #d4ebff;}#sk-container-id-4 div.sk-parallel-item::after {content: \"\";width: 100%;border-bottom: 1px solid gray;flex-grow: 1;}#sk-container-id-4 div.sk-label:hover label.sk-toggleable__label {background-color: #d4ebff;}#sk-container-id-4 div.sk-serial::before {content: \"\";position: absolute;border-left: 1px solid gray;box-sizing: border-box;top: 0;bottom: 0;left: 50%;z-index: 0;}#sk-container-id-4 div.sk-serial {display: flex;flex-direction: column;align-items: center;background-color: white;padding-right: 0.2em;padding-left: 0.2em;position: relative;}#sk-container-id-4 div.sk-item {position: relative;z-index: 1;}#sk-container-id-4 div.sk-parallel {display: flex;align-items: stretch;justify-content: center;background-color: white;position: relative;}#sk-container-id-4 div.sk-item::before, #sk-container-id-4 div.sk-parallel-item::before {content: \"\";position: absolute;border-left: 1px solid gray;box-sizing: border-box;top: 0;bottom: 0;left: 50%;z-index: -1;}#sk-container-id-4 div.sk-parallel-item {display: flex;flex-direction: column;z-index: 1;position: relative;background-color: white;}#sk-container-id-4 div.sk-parallel-item:first-child::after {align-self: flex-end;width: 50%;}#sk-container-id-4 div.sk-parallel-item:last-child::after {align-self: flex-start;width: 50%;}#sk-container-id-4 div.sk-parallel-item:only-child::after {width: 0;}#sk-container-id-4 div.sk-dashed-wrapped {border: 1px dashed gray;margin: 0 0.4em 0.5em 0.4em;box-sizing: border-box;padding-bottom: 0.4em;background-color: white;}#sk-container-id-4 div.sk-label label {font-family: monospace;font-weight: bold;display: inline-block;line-height: 1.2em;}#sk-container-id-4 div.sk-label-container {text-align: center;}#sk-container-id-4 div.sk-container {/* jupyter's `normalize.less` sets `[hidden] { display: none; }` but bootstrap.min.css set `[hidden] { display: none !important; }` so we also need the `!important` here to be able to override the default hidden behavior on the sphinx rendered scikit-learn.org. See: https://github.com/scikit-learn/scikit-learn/issues/21755 */display: inline-block !important;position: relative;}#sk-container-id-4 div.sk-text-repr-fallback {display: none;}</style><div id=\"sk-container-id-4\" class=\"sk-top-container\"><div class=\"sk-text-repr-fallback\"><pre>DecisionTreeClassifier(max_depth=3)</pre><b>In a Jupyter environment, please rerun this cell to show the HTML representation or trust the notebook. <br />On GitHub, the HTML representation is unable to render, please try loading this page with nbviewer.org.</b></div><div class=\"sk-container\" hidden><div class=\"sk-item\"><div class=\"sk-estimator sk-toggleable\"><input class=\"sk-toggleable__control sk-hidden--visually\" id=\"sk-estimator-id-4\" type=\"checkbox\" checked><label for=\"sk-estimator-id-4\" class=\"sk-toggleable__label sk-toggleable__label-arrow\">DecisionTreeClassifier</label><div class=\"sk-toggleable__content\"><pre>DecisionTreeClassifier(max_depth=3)</pre></div></div></div></div></div>"
      ],
      "text/plain": [
       "DecisionTreeClassifier(max_depth=3)"
      ]
     },
     "execution_count": 41,
     "metadata": {},
     "output_type": "execute_result"
    }
   ],
   "source": [
    "# Training the model\n",
    "dtc = DecisionTreeClassifier(criterion=\"gini\", max_depth = 3)\n",
    "dtc.fit(X_train, y_train)"
   ]
  },
  {
   "cell_type": "code",
   "execution_count": 54,
   "id": "651ca9e8",
   "metadata": {},
   "outputs": [
    {
     "data": {
      "image/png": "[encoded data removed]",
      "text/plain": [
       "<Figure size 640x480 with 1 Axes>"
      ]
     },
     "metadata": {},
     "output_type": "display_data"
    }
   ],
   "source": [
    "# Plotting the tree\n",
    "plt = plot_tree(dtc,class_names=[\"Pass\", \"Fail\"], filled=True)"
   ]
  },
  {
   "cell_type": "code",
   "execution_count": null,
   "id": "22e802d7",
   "metadata": {},
   "outputs": [],
   "source": [
    "\n"
   ]
  },
  {
   "cell_type": "code",
   "execution_count": null,
   "id": "bec4bad1",
   "metadata": {},
   "outputs": [],
   "source": []
  },
  {
   "cell_type": "code",
   "execution_count": 26,
   "id": "b29524ac",
   "metadata": {},
   "outputs": [
    {
     "data": {
      "text/plain": [
       "[Text(0.5, 0.875, 'Test Total  <= 24.833\\ngini = 0.499\\nsamples = 42\\nvalue = [20, 22]\\nclass = Not-retain'),\n",
       " Text(0.25, 0.625, 'Sl.No. <= 11.5\\ngini = 0.287\\nsamples = 23\\nvalue = [19, 4]\\nclass = Retain'),\n",
       " Text(0.125, 0.375, 'gini = 0.0\\nsamples = 4\\nvalue = [0, 4]\\nclass = Not-retain'),\n",
       " Text(0.375, 0.375, 'gini = 0.0\\nsamples = 19\\nvalue = [19, 0]\\nclass = Retain'),\n",
       " Text(0.75, 0.625, 'Quiz 2 <= 4.5\\ngini = 0.1\\nsamples = 19\\nvalue = [1, 18]\\nclass = Not-retain'),\n",
       " Text(0.625, 0.375, 'Test I  <= 26.0\\ngini = 0.444\\nsamples = 3\\nvalue = [1, 2]\\nclass = Not-retain'),\n",
       " Text(0.5, 0.125, 'gini = 0.0\\nsamples = 2\\nvalue = [0, 2]\\nclass = Not-retain'),\n",
       " Text(0.75, 0.125, 'gini = 0.0\\nsamples = 1\\nvalue = [1, 0]\\nclass = Retain'),\n",
       " Text(0.875, 0.375, 'gini = 0.0\\nsamples = 16\\nvalue = [0, 16]\\nclass = Not-retain')]"
      ]
     },
     "execution_count": 26,
     "metadata": {},
     "output_type": "execute_result"
    },
    {
     "data": {
      "image/png": "[encoded data removed]",
      "text/plain": [
       "<Figure size 640x480 with 1 Axes>"
      ]
     },
     "metadata": {},
     "output_type": "display_data"
    }
   ],
   "source": [
    "cl= DecisionTreeClassifier(criterion =\"gini\",max_depth=3,random_state=20)\n",
    "cl=cl.fit(x_train,y_train)\n",
    "classnames=['Retain','Not-retain']\n",
    "tree.plot_tree(cl,feature_names=x_train.columns.tolist(),class_names=classnames,filled=True)\n"
   ]
  },
  {
   "cell_type": "code",
   "execution_count": 27,
   "id": "20c47ea9",
   "metadata": {},
   "outputs": [
    {
     "data": {
      "text/plain": [
       "0.8181818181818182"
      ]
     },
     "execution_count": 27,
     "metadata": {},
     "output_type": "execute_result"
    }
   ],
   "source": [
    "a = accuracy_score(y_test, y_pred)\n",
    "a"
   ]
  },
  {
   "cell_type": "code",
   "execution_count": 28,
   "id": "594b0b14",
   "metadata": {},
   "outputs": [
    {
     "name": "stdout",
     "output_type": "stream",
     "text": [
      "              precision    recall  f1-score   support\n",
      "\n",
      "           0       0.86      0.86      0.86         7\n",
      "           1       0.75      0.75      0.75         4\n",
      "\n",
      "    accuracy                           0.82        11\n",
      "   macro avg       0.80      0.80      0.80        11\n",
      "weighted avg       0.82      0.82      0.82        11\n",
      "\n"
     ]
    }
   ],
   "source": [
    "report = classification_report(y_test, y_pred)\n",
    "print(report)"
   ]
  },
  {
   "cell_type": "code",
   "execution_count": 29,
   "id": "0f748e3c",
   "metadata": {},
   "outputs": [
    {
     "data": {
      "text/plain": [
       "array([[6, 1],\n",
       "       [1, 3]], dtype=int64)"
      ]
     },
     "execution_count": 29,
     "metadata": {},
     "output_type": "execute_result"
    }
   ],
   "source": [
    "cm = confusion_matrix(y_test, y_pred)\n",
    "cm"
   ]
  },
  {
   "cell_type": "code",
   "execution_count": 30,
   "id": "e39b2f5b",
   "metadata": {},
   "outputs": [
    {
     "data": {
      "text/plain": [
       "<Axes: >"
      ]
     },
     "execution_count": 30,
     "metadata": {},
     "output_type": "execute_result"
    },
    {
     "data": {
      "image/png": "[encoded data removed]",
      "text/plain": [
       "<Figure size 640x480 with 2 Axes>"
      ]
     },
     "metadata": {},
     "output_type": "display_data"
    }
   ],
   "source": [
    "sns.heatmap(cm, annot=True, cmap=\"coolwarm\")"
   ]
  },
  {
   "cell_type": "code",
   "execution_count": 31,
   "id": "d98507e0",
   "metadata": {},
   "outputs": [
    {
     "name": "stderr",
     "output_type": "stream",
     "text": [
      "C:\\Users\\sowja\\AppData\\Roaming\\Python\\Python38\\site-packages\\sklearn\\base.py:464: UserWarning: X does not have valid feature names, but DecisionTreeClassifier was fitted with feature names\n",
      "  warnings.warn(\n"
     ]
    }
   ],
   "source": [
    "#Passing test data\n",
    "resu = clf.predict([[41,29,29,18,25.333333,1,5.0,6.0,10.0,16.0,1,41.333333,14,14,1]])\n"
   ]
  },
  {
   "cell_type": "code",
   "execution_count": 32,
   "id": "1dd81a29",
   "metadata": {},
   "outputs": [
    {
     "name": "stdout",
     "output_type": "stream",
     "text": [
      "Pass\n"
     ]
    }
   ],
   "source": [
    "if resu[0] == 1:\n",
    "    print(\"Pass\")\n",
    "else:\n",
    "    print(\"Fail\")"
   ]
  },
  {
   "cell_type": "code",
   "execution_count": 61,
   "id": "f43afb1b",
   "metadata": {},
   "outputs": [
    {
     "data": {
      "text/plain": [
       "<Axes: >"
      ]
     },
     "execution_count": 61,
     "metadata": {},
     "output_type": "execute_result"
    },
    {
     "data": {
      "image/png": "[encoded data removed]",
      "text/plain": [
       "<Figure size 640x480 with 2 Axes>"
      ]
     },
     "metadata": {},
     "output_type": "display_data"
    }
   ],
   "source": [
    "from sklearn.metrics import confusion_matrix, accuracy_score, precision_score, recall_score, f1_score\n",
    "# Confusion Matrix for Train data\n",
    "y_train_pred = dtc.predict(X_train)\n",
    "cm1 = confusion_matrix(y_train, y_train_pred)\n",
    "sns.heatmap(cm1, annot = True, yticklabels = classnames, xticklabels = classnames)"
   ]
  },
  {
   "cell_type": "code",
   "execution_count": 62,
   "id": "73703cc8",
   "metadata": {},
   "outputs": [
    {
     "data": {
      "text/plain": [
       "<Axes: >"
      ]
     },
     "execution_count": 62,
     "metadata": {},
     "output_type": "execute_result"
    },
    {
     "data": {
      "image/png": "[encoded data removed]",
      "text/plain": [
       "<Figure size 640x480 with 2 Axes>"
      ]
     },
     "metadata": {},
     "output_type": "display_data"
    }
   ],
   "source": [
    "# Confusion Matrix for Test Data\n",
    "y_test_pred = dtc.predict(X_test)\n",
    "cm2 = confusion_matrix(y_test, y_test_pred)\n",
    "sns.heatmap(cm2, annot = True, yticklabels = classnames, xticklabels = classnames)"
   ]
  },
  {
   "cell_type": "code",
   "execution_count": 63,
   "id": "3dfe2d34",
   "metadata": {},
   "outputs": [
    {
     "name": "stdout",
     "output_type": "stream",
     "text": [
      "Accuracy of Train set: 0.9523809523809523, Test: 0.7272727272727273\n",
      "Precision score of Train set: 0.95, Test: 0.6666666666666666\n",
      "Recall score of Train set: 0.95, Test: 1.0\n",
      "F1 score of Train set: 0.9500000000000001, Test: 0.8\n"
     ]
    }
   ],
   "source": [
    "#Printing the Evaluation Metric Results for both train and test data\n",
    "print(f'Accuracy of Train set: {accuracy_score(y_train, y_train_pred)}, Test: {accuracy_score(y_test, y_test_pred)}')\n",
    "print(f'Precision score of Train set: {precision_score(y_train, y_train_pred)}, Test: {precision_score(y_test, y_test_pred)}')\n",
    "print(f'Recall score of Train set: {recall_score(y_train, y_train_pred)}, Test: {recall_score(y_test, y_test_pred)}')\n",
    "print(f'F1 score of Train set: {f1_score(y_train, y_train_pred)}, Test: {f1_score(y_test, y_test_pred)}')\n"
   ]
  },
  {
   "cell_type": "code",
   "execution_count": 69,
   "id": "a443eff1",
   "metadata": {},
   "outputs": [
    {
     "data": {
      "image/png": "[encoded data removed]",
      "text/plain": [
       "<Figure size 640x480 with 1 Axes>"
      ]
     },
     "metadata": {},
     "output_type": "display_data"
    }
   ],
   "source": [
    "# Plotting Train and Test scores\n",
    "import numpy as np\n",
    "import matplotlib.pyplot as plt \n",
    "x = np.arange(2)\n",
    "plt.bar(x-0.30, [accuracy_score(y_train,y_train_pred), accuracy_score(y_test,y_test_pred)], width=0.20)\n",
    "plt.bar(x-0.10, [precision_score(y_train,y_train_pred), precision_score(y_test,y_test_pred)], width=0.20)\n",
    "plt.bar(x+0.10, [recall_score(y_train,y_train_pred), recall_score(y_test,y_test_pred)], width=0.20)\n",
    "plt.bar(x+0.30, [f1_score(y_train,y_train_pred), f1_score(y_test,y_test_pred)], 0.20)\n",
    "plt.xticks(ticks=[0,1], labels=['Training', 'Testing'])\n",
    "plt.xlabel(\"Dataset\")\n",
    "plt.ylabel(\"Scores\")\n",
    "plt.title(\"Evaluation Metrics for Training and Testing Datasets\")\n",
    "plt.show()"
   ]
  },
  {
   "cell_type": "code",
   "execution_count": null,
   "id": "3dfcd6c9",
   "metadata": {},
   "outputs": [],
   "source": []
  }
 ],
 "metadata": {
  "kernelspec": {
   "display_name": "Python 3 (ipykernel)",
   "language": "python",
   "name": "python3"
  },
  "language_info": {
   "codemirror_mode": {
    "name": "ipython",
    "version": 3
   },
   "file_extension": ".py",
   "mimetype": "text/x-python",
   "name": "python",
   "nbconvert_exporter": "python",
   "pygments_lexer": "ipython3",
   "version": "3.8.6"
  }
 },
 "nbformat": 4,
 "nbformat_minor": 5
}
